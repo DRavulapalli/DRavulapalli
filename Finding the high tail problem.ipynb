{
 "cells": [
  {
   "cell_type": "code",
   "execution_count": 16,
   "id": "feff34d9",
   "metadata": {},
   "outputs": [],
   "source": [
    "import os\n",
    "# import badger\n",
    "import numpy as np\n",
    "from astropy.table import Table\n",
    "import matplotlib.pyplot as plt"
   ]
  },
  {
   "cell_type": "code",
   "execution_count": 17,
   "id": "c3778e04",
   "metadata": {},
   "outputs": [],
   "source": [
    "fpath = '/Users/darshika/Desktop/Research/SOM_N_of_Z/K1000_NS_V1.0.0A_ugriZYJHKs_photoz_SG_mask_LF_svn_309c_2Dbins_v2' +\\\n",
    "        '_SOMcols_Fid_blindC_TOMO{}_Nz.asc'\n",
    "fpath = os.path.join(fpath)\n",
    "table_n = Table()\n",
    "table_n['z'] = np.genfromtxt(fpath.format(1))[:, 0] + 0.025\n",
    "table_n['n'] = np.vstack(\n",
    "    [np.genfromtxt(fpath.format(i + 1))[:, 1] for i in range(5)]).T"
   ]
  },
  {
   "cell_type": "code",
   "execution_count": 18,
   "id": "d133aa9f",
   "metadata": {},
   "outputs": [
    {
     "data": {
      "image/png": "[encoded data removed]",
      "text/plain": [
       "<Figure size 504x216 with 6 Axes>"
      ]
     },
     "metadata": {
      "needs_background": "light"
     },
     "output_type": "display_data"
    }
   ],
   "source": [
    "table_c = Table.read(os.path.join('/Users/darshika/Desktop/Research/som-data/trial_4/final/kids_c_0.fits'))\n",
    "fig, axarr = plt.subplots(nrows=2, ncols=3, figsize=(7, 3), sharex=True)\n",
    "axarr = axarr.flatten()\n",
    "\n",
    "Z_BINS = {'kids': [0.1, 0.3, 0.5, 0.7, 0.9, 1.2]}"
   ]
  },
  {
   "cell_type": "code",
   "execution_count": 19,
   "id": "50ce067c",
   "metadata": {
    "scrolled": true
   },
   "outputs": [
    {
     "name": "stdout",
     "output_type": "stream",
     "text": [
      "Tomographic bin 1\n",
      "<z>: 0.257 vs. 0.478\n",
      "Tomographic bin 2\n",
      "<z>: 0.403 vs. 0.517\n",
      "Tomographic bin 3\n",
      "<z>: 0.564 vs. 0.698\n",
      "Tomographic bin 4\n",
      "<z>: 0.792 vs. 0.868\n",
      "Tomographic bin 5\n",
      "<z>: 0.984 vs. 1.053\n"
     ]
    }
   ],
   "source": [
    "for i in range(5):\n",
    "\n",
    "    if i < 2:\n",
    "        ax = axarr[i]\n",
    "    else:\n",
    "        ax = axarr[i + 1]\n",
    "\n",
    "    use = ((table_c['z'] > Z_BINS['kids'][i]) &\n",
    "           (table_c['z'] <= Z_BINS['kids'][i+1]))\n",
    "\n",
    "    n,bins,patches = ax.hist(table_c['z_true'][use], weights=table_c['w'][use] *\n",
    "            table_c['w_sys'][use],\n",
    "            bins=table_n['z'] - np.diff(table_n['z'])[0] / 2.0,\n",
    "            histtype='step', density=True) #something here i need to change\n",
    "    \n",
    "    ax.plot(table_n['z'], table_n['n'][:, i] / np.diff(table_n['z'])[0])\n",
    "    ax.set_xlim(0, 1.8)\n",
    "    print('Tomographic bin {}'.format(i + 1))\n",
    "    print('<z>: {:.3f} vs. {:.3f}'.format(\n",
    "        np.average(table_n['z'], weights=table_n['n'][:, i]),\n",
    "        np.average(table_c['z_true'][use], weights=table_c['w'][use] *\n",
    "                   table_c['w_sys'][use])))\n",
    "    ax.set_yticks([])\n",
    "    if i >= 2:\n",
    "        ax.set_xlabel(r'Redshift $z$')\n",
    "    ax.text(0.95, 0.95, r'${:.1f} < z_B \\leq {:.1f}$'.format(\n",
    "                Z_BINS['kids'][i], Z_BINS['kids'][i+1]),\n",
    "            transform=ax.transAxes, ha='right', va='top')\n"
   ]
  },
  {
   "cell_type": "code",
   "execution_count": 24,
   "id": "f33daac9",
   "metadata": {},
   "outputs": [
    {
     "name": "stdout",
     "output_type": "stream",
     "text": [
      "[-3.46944695e-18  5.00000000e-02  1.00000000e-01  1.50000000e-01\n",
      "  2.00000000e-01  2.50000000e-01  3.00000000e-01  3.50000000e-01\n",
      "  4.00000000e-01  4.50000000e-01  5.00000000e-01  5.50000000e-01\n",
      "  6.00000000e-01  6.50000000e-01  7.00000000e-01  7.50000000e-01\n",
      "  8.00000000e-01  8.50000000e-01  9.00000000e-01  9.50000000e-01\n",
      "  1.00000000e+00  1.05000000e+00  1.10000000e+00  1.15000000e+00\n",
      "  1.20000000e+00  1.25000000e+00  1.30000000e+00  1.35000000e+00\n",
      "  1.40000000e+00  1.45000000e+00  1.50000000e+00  1.55000000e+00\n",
      "  1.60000000e+00  1.65000000e+00  1.70000000e+00  1.75000000e+00\n",
      "  1.80000000e+00  1.85000000e+00  1.90000000e+00  1.95000000e+00\n",
      "  2.00000000e+00  2.05000000e+00  2.10000000e+00  2.15000000e+00\n",
      "  2.20000000e+00  2.25000000e+00  2.30000000e+00  2.35000000e+00\n",
      "  2.40000000e+00  2.45000000e+00  2.50000000e+00  2.55000000e+00\n",
      "  2.60000000e+00  2.65000000e+00  2.70000000e+00  2.75000000e+00\n",
      "  2.80000000e+00  2.85000000e+00  2.90000000e+00  2.95000000e+00\n",
      "  3.00000000e+00  3.05000000e+00  3.10000000e+00  3.15000000e+00\n",
      "  3.20000000e+00  3.25000000e+00  3.30000000e+00  3.35000000e+00\n",
      "  3.40000000e+00  3.45000000e+00  3.50000000e+00  3.55000000e+00\n",
      "  3.60000000e+00  3.65000000e+00  3.70000000e+00  3.75000000e+00\n",
      "  3.80000000e+00  3.85000000e+00  3.90000000e+00  3.95000000e+00\n",
      "  4.00000000e+00  4.05000000e+00  4.10000000e+00  4.15000000e+00\n",
      "  4.20000000e+00  4.25000000e+00  4.30000000e+00  4.35000000e+00\n",
      "  4.40000000e+00  4.45000000e+00  4.50000000e+00  4.55000000e+00\n",
      "  4.60000000e+00  4.65000000e+00  4.70000000e+00  4.75000000e+00\n",
      "  4.80000000e+00  4.85000000e+00  4.90000000e+00  4.95000000e+00\n",
      "  5.00000000e+00  5.05000000e+00  5.10000000e+00  5.15000000e+00\n",
      "  5.20000000e+00  5.25000000e+00  5.30000000e+00  5.35000000e+00\n",
      "  5.40000000e+00  5.45000000e+00  5.50000000e+00  5.55000000e+00\n",
      "  5.60000000e+00  5.65000000e+00  5.70000000e+00  5.75000000e+00\n",
      "  5.80000000e+00  5.85000000e+00  5.90000000e+00  5.95000000e+00]\n"
     ]
    }
   ],
   "source": [
    "print(bins)"
   ]
  },
  {
   "cell_type": "code",
   "execution_count": 20,
   "id": "a0058355",
   "metadata": {},
   "outputs": [
    {
     "data": {
      "text/plain": [
       "array([1, 1, 1, 1, 1, 1, 1, 1, 1, 1, 1, 1, 1, 1, 2, 2, 2, 3, 2, 3, 3, 2,\n",
       "       2, 1, 2, 1, 1, 1, 1, 1, 1, 1, 1, 1, 1, 1, 1, 1, 1, 1, 1, 1, 1, 1,\n",
       "       1, 1, 1, 1, 1, 1, 1, 1, 1, 1, 1, 1, 1, 1, 1, 1, 1, 1, 1, 1, 1, 1,\n",
       "       1, 1, 1, 1, 1, 1, 1, 1, 1, 1, 1, 1, 1, 1, 1, 1, 1, 1, 1, 1, 1, 1,\n",
       "       1, 1, 1, 1, 1, 1, 1, 1, 1, 1, 1, 1, 1, 1, 1, 1, 1, 1, 1, 1, 1, 1,\n",
       "       1, 1, 1, 1, 1, 1, 1, 1, 1, 1])"
      ]
     },
     "execution_count": 20,
     "metadata": {},
     "output_type": "execute_result"
    }
   ],
   "source": [
    "#trying to see the index of each value we are plotting is which bin\n",
    "np.digitize(table_n['n'][:,i], bins)"
   ]
  },
  {
   "cell_type": "code",
   "execution_count": 23,
   "id": "90e4723c",
   "metadata": {},
   "outputs": [
    {
     "data": {
      "text/plain": [
       "<Figure size 432x288 with 0 Axes>"
      ]
     },
     "metadata": {},
     "output_type": "display_data"
    }
   ],
   "source": [
    "axarr[2].axis('off')\n",
    "\n",
    "plt.tight_layout(pad=0.3)\n",
    "plt.subplots_adjust(wspace=0, hspace=0)\n",
    "plt.savefig('kids_nz.pdf')\n",
    "plt.savefig('kids_nz.png', dpi=300)\n",
    "\n"
   ]
  },
  {
   "cell_type": "code",
   "execution_count": null,
   "id": "baa45678",
   "metadata": {},
   "outputs": [],
   "source": []
  }
 ],
 "metadata": {
  "kernelspec": {
   "display_name": "Python 3 (ipykernel)",
   "language": "python",
   "name": "python3"
  },
  "language_info": {
   "codemirror_mode": {
    "name": "ipython",
    "version": 3
   },
   "file_extension": ".py",
   "mimetype": "text/x-python",
   "name": "python",
   "nbconvert_exporter": "python",
   "pygments_lexer": "ipython3",
   "version": "3.9.7"
  }
 },
 "nbformat": 4,
 "nbformat_minor": 5
}
